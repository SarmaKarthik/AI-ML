{
 "cells": [
  {
   "cell_type": "markdown",
   "metadata": {},
   "source": [
    "# INTERNSHIP.\n",
    "\n",
    "\n",
    "\n",
    "## Day no- 2\n",
    "\n",
    "\n",
    "## Dates- 26 May-19 \n",
    "\n",
    "\n",
    "### Day Outcomes\n",
    "Data Analysis of Mobile apps data\n"
   ]
  },
  {
   "cell_type": "markdown",
   "metadata": {},
   "source": [
    "### Problem 1:\n",
    "\n",
    "##### Problem statement\n",
    "Compute the total number of unique apps from the dataset\n"
   ]
  },
  {
   "cell_type": "code",
   "execution_count": 16,
   "metadata": {},
   "outputs": [
    {
     "name": "stdout",
     "output_type": "stream",
     "text": [
      "number of apps in the appstore :  7197\n",
      "number of unique apps in the appstore :  7195\n"
     ]
    }
   ],
   "source": [
    "import pandas as pd\n",
    "\n",
    "df = pd.read_csv('DataFiles/AppleStore.csv')\n",
    "\n",
    "u = []\n",
    "\n",
    "for i in range(0,len(df)):\n",
    "    \n",
    "    if df.loc[i][2] not in u:\n",
    "        u.append(df.loc[i][2])\n",
    "    \n",
    "len(u) \n",
    "print('number of apps in the appstore : ', len(df))\n",
    "print('number of unique apps in the appstore : ', len(u))\n"
   ]
  },
  {
   "cell_type": "code",
   "execution_count": null,
   "metadata": {},
   "outputs": [],
   "source": []
  },
  {
   "cell_type": "markdown",
   "metadata": {},
   "source": [
    "### Problem 2:\n",
    "\n",
    "##### Problem statement\n",
    "Print the Top 10 apps along with their rating based on the number of downloads(rating_count_tot)\n",
    "\n"
   ]
  },
  {
   "cell_type": "code",
   "execution_count": 5,
   "metadata": {},
   "outputs": [
    {
     "name": "stdout",
     "output_type": "stream",
     "text": [
      "Facebook    3.5\n",
      "Instagram    4.5\n",
      "Clash of Clans    4.5\n",
      "Temple Run    4.5\n",
      "Pandora - Music & Radio    4.0\n",
      "Pinterest    4.5\n",
      "Bible    4.5\n",
      "Candy Crush Saga    4.5\n",
      "Spotify Music    4.5\n",
      "Angry Birds    4.5\n"
     ]
    }
   ],
   "source": [
    "import pandas as pd\n",
    "\n",
    "df = pd.read_csv('DataFiles/AppleStore.csv')\n",
    "li =[]\n",
    "a = []\n",
    "f = []\n",
    "for i in range (0,len(df)):\n",
    "    li.append(df.loc[i][6])\n",
    "    \n",
    "li.sort(reverse = True)\n",
    "a = li\n",
    "df.to_csv('DataFiles/Top.csv')\n",
    "for k in range (0,10):\n",
    "    for i in range (0,len(df)):\n",
    "        if a[k] == df.loc[i][6]:\n",
    "            print(df.loc[i][2], '  ',df.loc[i][8])\n",
    "    \n",
    "    \n"
   ]
  },
  {
   "cell_type": "code",
   "execution_count": null,
   "metadata": {},
   "outputs": [],
   "source": []
  },
  {
   "cell_type": "markdown",
   "metadata": {},
   "source": [
    "### Problem 3:\n",
    "\n",
    "##### Problem statement\n",
    "Categorise the dataset based on content rating into the following\n",
    "Number of apps with content rating 4+\n",
    "Number of apps with content rating 9+\n",
    "Number of apps with content rating 12+\n",
    "Number of apps with content rating 17+\n",
    "\n",
    "\n",
    "\n"
   ]
  },
  {
   "cell_type": "code",
   "execution_count": 7,
   "metadata": {},
   "outputs": [
    {
     "name": "stdout",
     "output_type": "stream",
     "text": [
      "Number of apps with content rating 4+ : 4433\n",
      "Number of apps with content rating 9+ : 987\n",
      "Number of apps with content rating 12+ : 1155\n",
      "Number of apps with content rating 17+ : 622\n"
     ]
    }
   ],
   "source": [
    "import pandas as pd\n",
    "\n",
    "df = pd.read_csv('DataFiles/AppleStore.csv')\n",
    "count1 = 0\n",
    "count2 = 0\n",
    "count3 = 0\n",
    "count4 = 0\n",
    "\n",
    "\n",
    "\n",
    "for i in range (0,len(df)):\n",
    "    if df.loc[i][11] == '4+'  :\n",
    "        count1 += 1\n",
    "    if df.loc[i][11] == '9+'  :\n",
    "        count2 += 1\n",
    "    if df.loc[i][11] == '12+' :\n",
    "        count3 += 1\n",
    "    if df.loc[i][11] == '17+' :\n",
    "        count4 += 1\n",
    "print ('Number of apps with content rating 4+ :' , count1,end = '\\n')\n",
    "print('Number of apps with content rating 9+ :' , count2,end = '\\n')\n",
    "print('Number of apps with content rating 12+ :',count3,end = '\\n')\n",
    "print('Number of apps with content rating 17+ :',count4)"
   ]
  },
  {
   "cell_type": "code",
   "execution_count": 8,
   "metadata": {
    "scrolled": true
   },
   "outputs": [
    {
     "data": {
      "text/plain": [
       "'4+'"
      ]
     },
     "execution_count": 8,
     "metadata": {},
     "output_type": "execute_result"
    }
   ],
   "source": [
    "df.loc[0][11]\n"
   ]
  }
 ],
 "metadata": {
  "kernelspec": {
   "display_name": "Python 3",
   "language": "python",
   "name": "python3"
  },
  "language_info": {
   "codemirror_mode": {
    "name": "ipython",
    "version": 3
   },
   "file_extension": ".py",
   "mimetype": "text/x-python",
   "name": "python",
   "nbconvert_exporter": "python",
   "pygments_lexer": "ipython3",
   "version": "3.7.3"
  }
 },
 "nbformat": 4,
 "nbformat_minor": 2
}
