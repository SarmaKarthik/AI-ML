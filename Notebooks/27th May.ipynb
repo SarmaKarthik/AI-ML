{
 "cells": [
  {
   "cell_type": "markdown",
   "metadata": {},
   "source": [
    "# Artificial Intelligence and Machine Learning-Internship\n",
    "\n",
    "### Day no - 3\n",
    "### Date - 27th May 2019\n"
   ]
  },
  {
   "cell_type": "markdown",
   "metadata": {},
   "source": [
    "### Problem 1: \n",
    "#### Problem Statement :\n",
    "Construct a Dictionary with keys as Genre names and values as frequency percentage  for each genre.\n",
    "\n",
    "\n",
    "* Genre  ,  App Count %\n",
    "* Games  ,  ...\n",
    "* Productivity  ,   ...\n",
    "* Social Networking   ,    ...\n",
    "* Health Care   ,   ...\n",
    "* etc\n",
    "\n",
    "\n"
   ]
  },
  {
   "cell_type": "code",
   "execution_count": 13,
   "metadata": {},
   "outputs": [
    {
     "name": "stdout",
     "output_type": "stream",
     "text": [
      "2.7248216609996234\n"
     ]
    },
    {
     "data": {
      "text/plain": [
       "{'Games': 53.66124774211477,\n",
       " 'Productivity': 2.473252744198972,\n",
       " 'Weather': 1.0004168403501459,\n",
       " 'Shopping': 1.6951507572599693,\n",
       " 'Reference': 0.8892594136445742,\n",
       " 'Finance': 1.445046547172433,\n",
       " 'Music': 1.9174656106711132,\n",
       " 'Utilities': 3.4458802278727245,\n",
       " 'Travel': 1.1254689453939142,\n",
       " 'Social Networking': 2.3204112824788106,\n",
       " 'Sports': 1.5839933305543976,\n",
       " 'Business': 0.7919966652771988,\n",
       " 'Health & Fitness': 2.501042100875365,\n",
       " 'Entertainment': 7.433652910935113,\n",
       " 'Photo & Video': 4.849242740030569,\n",
       " 'Navigation': 0.6391552035570377,\n",
       " 'Education': 6.294289287203002,\n",
       " 'Lifestyle': 2.0008336807002918,\n",
       " 'Food & Drink': 0.8753647353063776,\n",
       " 'News': 1.0421008753647354,\n",
       " 'Book': 1.5562039738780047,\n",
       " 'Medical': 0.31957760177851885,\n",
       " 'Catalogs': 0.1389467833819647}"
      ]
     },
     "execution_count": 13,
     "metadata": {},
     "output_type": "execute_result"
    }
   ],
   "source": [
    "import pandas,timeit\n",
    "start=timeit.default_timer()\n",
    "df=pandas.read_csv('DataFiles/AppleStore.csv',usecols=['prime_genre'])\n",
    "dictionary={}\n",
    "u=[]\n",
    "for x in df.values:\n",
    "    if x not in u:\n",
    "        u.append(x)\n",
    "for x in u:\n",
    "    count=0\n",
    "    for i in range(len(df)):\n",
    "        if df.values[i]==x:\n",
    "            count=count+1\n",
    "    dictionary[x[0]]=(count/len(df))*100\n",
    "print(timeit.default_timer()-start)\n",
    "dictionary"
   ]
  },
  {
   "cell_type": "code",
   "execution_count": null,
   "metadata": {},
   "outputs": [],
   "source": []
  },
  {
   "cell_type": "markdown",
   "metadata": {},
   "source": [
    "# Rough Verification"
   ]
  },
  {
   "cell_type": "code",
   "execution_count": 11,
   "metadata": {},
   "outputs": [
    {
     "data": {
      "text/plain": [
       "['Games',\n",
       " 'Productivity',\n",
       " 'Weather',\n",
       " 'Shopping',\n",
       " 'Reference',\n",
       " 'Finance',\n",
       " 'Music',\n",
       " 'Utilities',\n",
       " 'Travel',\n",
       " 'Social Networking',\n",
       " 'Sports',\n",
       " 'Business',\n",
       " 'Health & Fitness',\n",
       " 'Entertainment',\n",
       " 'Photo & Video',\n",
       " 'Navigation',\n",
       " 'Education',\n",
       " 'Lifestyle',\n",
       " 'Food & Drink',\n",
       " 'News',\n",
       " 'Book',\n",
       " 'Medical',\n",
       " 'Catalogs']"
      ]
     },
     "execution_count": 11,
     "metadata": {},
     "output_type": "execute_result"
    }
   ],
   "source": [
    "import pandas as pd\n",
    "\n",
    "df = pd.read_csv('DataFiles/AppleStore.csv')\n",
    "u = []\n",
    "for i in range (0,len(df)):\n",
    "    if df.loc[i][12] not in u :\n",
    "        u.append(df.loc[i][12])\n",
    "u"
   ]
  },
  {
   "cell_type": "code",
   "execution_count": 3,
   "metadata": {},
   "outputs": [
    {
     "name": "stdout",
     "output_type": "stream",
     "text": [
      "percentage of gaming apps :     53.66124774211477\n",
      "percentage of productivity apps :     2.473252744198972\n",
      "percentage of Social Networking apps :     2.3204112824788106\n",
      "percentage of Health & Fitness apps :     2.501042100875365\n",
      "percentage of weather apps :     1.0004168403501459\n"
     ]
    }
   ],
   "source": [
    "import pandas as pd\n",
    "df = pd.read_csv('DataFiles/AppleStore.csv')\n",
    "df\n",
    "dict = {}\n",
    "gamecount = 0\n",
    "productivitycount = 0\n",
    "socialmediacount = 0\n",
    "healthandfitnesscount = 0\n",
    "Weathercount = 0\n",
    "for i in range (0,len(df)):\n",
    "    if df.loc[i][12] == 'Games':\n",
    "        gamecount = gamecount+1\n",
    "    if df.loc[i][12] == 'Productivity':\n",
    "        productivitycount = productivitycount + 1\n",
    "    if df.loc[i][12] == 'Social Networking':\n",
    "        socialmediacount = socialmediacount + 1\n",
    "    if df.loc[i][12] == 'Health & Fitness' :\n",
    "        healthandfitnesscount = healthandfitnesscount + 1\n",
    "    if df.loc[i][12] == 'Weather' :\n",
    "        Weathercount = Weathercount + 1\n",
    "\n",
    "\n",
    "        \n",
    "games_appcount = (gamecount/len(df)) * 100\n",
    "productivity_appcount = (productivitycount/len(df)) * 100\n",
    "socialNetworking_appcount = (socialmediacount/len(df)) * 100\n",
    "healthandfitness_appcount = (healthandfitnesscount/len(df)) * 100\n",
    "Weather_appcount = (Weathercount/len(df)) * 100\n",
    "        \n",
    "\n",
    "df    \n",
    "    \n",
    "    \n",
    "\n",
    "print('percentage of gaming apps :', '   ',  games_appcount)\n",
    "print('percentage of productivity apps :', '   ',  productivity_appcount)\n",
    "print('percentage of Social Networking apps :', '   ',  socialNetworking_appcount)\n",
    "print('percentage of Health & Fitness apps :', '   ',  healthandfitness_appcount)\n",
    "print('percentage of weather apps :', '   ',  Weather_appcount)\n",
    "#Weather_appcount"
   ]
  },
  {
   "cell_type": "code",
   "execution_count": null,
   "metadata": {},
   "outputs": [],
   "source": [
    "dict[key] = "
   ]
  },
  {
   "cell_type": "code",
   "execution_count": 3,
   "metadata": {},
   "outputs": [
    {
     "data": {
      "text/plain": [
       "Index(['Unnamed: 0', 'id', 'track_name', 'size_bytes', 'currency', 'price',\n",
       "       'rating_count_tot', 'rating_count_ver', 'user_rating',\n",
       "       'user_rating_ver', 'ver', 'cont_rating', 'prime_genre',\n",
       "       'sup_devices.num', 'ipadSc_urls.num', 'lang.num', 'vpp_lic'],\n",
       "      dtype='object')"
      ]
     },
     "execution_count": 3,
     "metadata": {},
     "output_type": "execute_result"
    }
   ],
   "source": [
    "df.columns"
   ]
  }
 ],
 "metadata": {
  "kernelspec": {
   "display_name": "Python 3",
   "language": "python",
   "name": "python3"
  },
  "language_info": {
   "codemirror_mode": {
    "name": "ipython",
    "version": 3
   },
   "file_extension": ".py",
   "mimetype": "text/x-python",
   "name": "python",
   "nbconvert_exporter": "python",
   "pygments_lexer": "ipython3",
   "version": "3.7.3"
  }
 },
 "nbformat": 4,
 "nbformat_minor": 2
}
