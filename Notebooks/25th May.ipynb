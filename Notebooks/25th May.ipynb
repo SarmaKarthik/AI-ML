{
 "cells": [
  {
   "cell_type": "markdown",
   "metadata": {},
   "source": [
    "# INTERNSHIP.\n",
    "\n",
    "\n",
    "\n",
    "## Day no- 1 \n",
    "\n",
    "\n",
    "## Dates- 25 May-19 \n",
    "\n",
    "\n",
    "### Day Outcomes\n",
    "Data Analysis of Mobile apps data\n"
   ]
  },
  {
   "cell_type": "markdown",
   "metadata": {},
   "source": [
    "### Problem 1:\n",
    "\n",
    "##### Problem statement\n",
    "Calculate the average rating for free apps"
   ]
  },
  {
   "cell_type": "code",
   "execution_count": 7,
   "metadata": {},
   "outputs": [
    {
     "data": {
      "text/plain": [
       "3.3767258382642997"
      ]
     },
     "execution_count": 7,
     "metadata": {},
     "output_type": "execute_result"
    }
   ],
   "source": [
    "import pandas\n",
    "\n",
    "df = pandas.read_csv('DataFiles/AppleStore.csv')\n",
    "df\n",
    "sum = count = 0\n",
    "for i in range (0,len(df)):\n",
    "    if df.loc[i][5]==0:\n",
    "        sum = sum + df.loc[i][8]\n",
    "        count = count + 1\n",
    "average = sum/count\n",
    "average"
   ]
  },
  {
   "cell_type": "code",
   "execution_count": 5,
   "metadata": {},
   "outputs": [
    {
     "data": {
      "text/plain": [
       "3.99"
      ]
     },
     "execution_count": 5,
     "metadata": {},
     "output_type": "execute_result"
    }
   ],
   "source": [
    "df.loc[0][5]"
   ]
  },
  {
   "cell_type": "code",
   "execution_count": 6,
   "metadata": {},
   "outputs": [
    {
     "data": {
      "text/plain": [
       "7197"
      ]
     },
     "execution_count": 6,
     "metadata": {},
     "output_type": "execute_result"
    }
   ],
   "source": [
    "len(df)"
   ]
  },
  {
   "cell_type": "code",
   "execution_count": null,
   "metadata": {},
   "outputs": [],
   "source": []
  },
  {
   "cell_type": "markdown",
   "metadata": {},
   "source": [
    "### Problem 2:\n",
    "\n",
    "##### Problem statement\n",
    "Calculate the average rating for non-free apps\n"
   ]
  },
  {
   "cell_type": "code",
   "execution_count": 4,
   "metadata": {},
   "outputs": [
    {
     "data": {
      "text/plain": [
       "3.720948742438714"
      ]
     },
     "execution_count": 4,
     "metadata": {},
     "output_type": "execute_result"
    }
   ],
   "source": [
    "import pandas as pd\n",
    "\n",
    "df = pd.read_csv('DataFiles/AppleStore.csv')\n",
    "totalrating = count = 0\n",
    "for i in range (0,len(df)):\n",
    "    if df.loc[i][5] != 0:\n",
    "        totalrating = totalrating + df.loc[i][8]\n",
    "        count = count + 1\n",
    "        \n",
    "average = totalrating/count       \n",
    "average"
   ]
  },
  {
   "cell_type": "markdown",
   "metadata": {},
   "source": [
    "### Problem 3:\n",
    "\n",
    "##### Problem statement\n",
    "calculate the average rating of gaming and non-gaming apps."
   ]
  },
  {
   "cell_type": "code",
   "execution_count": 18,
   "metadata": {},
   "outputs": [
    {
     "name": "stdout",
     "output_type": "stream",
     "text": [
      "average rating of gaming apps: 3.6850077679958573\n",
      "average rating of non gaming apps: 3.343928035982009\n"
     ]
    }
   ],
   "source": [
    "import pandas as pd\n",
    "df = pd.read_csv('DataFiles/AppleStore.csv') \n",
    "trga = 0\n",
    "tnga = 0\n",
    "trnga = 0\n",
    "tnnga = 0\n",
    "\n",
    "for i in range (0,len(df)):\n",
    "    if df.loc[i][12] == 'Games':\n",
    "        trga = trga+df.loc[i][8]\n",
    "        tnga = tnga+1\n",
    "    if df.loc[i][12] != 'Games':\n",
    "        trnga = trnga + df.loc[i][8]\n",
    "        tnnga = tnnga+1\n",
    "        \n",
    "arga = trga/tnga\n",
    "arnga = trnga/tnnga\n",
    "print('average rating of gaming apps:',arga)\n",
    "print('average rating of non gaming apps:',arnga)\n"
   ]
  },
  {
   "cell_type": "code",
   "execution_count": 10,
   "metadata": {},
   "outputs": [
    {
     "data": {
      "text/plain": [
       "'Games'"
      ]
     },
     "execution_count": 10,
     "metadata": {},
     "output_type": "execute_result"
    }
   ],
   "source": [
    "df.loc[5][12]"
   ]
  },
  {
   "cell_type": "markdown",
   "metadata": {},
   "source": [
    "### Problem 4:\n",
    "\n",
    "##### Problem statement\n",
    "Calculate the average rating of free Gaming apps\n"
   ]
  },
  {
   "cell_type": "code",
   "execution_count": 22,
   "metadata": {},
   "outputs": [
    {
     "data": {
      "text/plain": [
       "3.5285777580859548"
      ]
     },
     "execution_count": 22,
     "metadata": {},
     "output_type": "execute_result"
    }
   ],
   "source": [
    "import pandas as pd\n",
    "df = pd.read_csv('DataFiles/AppleStore.csv')\n",
    "rating = 0\n",
    "count = 0\n",
    "for i in range (0,len(df)):\n",
    "    if df.loc[i][5] == 0 and df.loc[i][12] == 'Games' :\n",
    "        rating = rating + df.loc[i][8]\n",
    "        count = count + 1\n",
    "averagerating = rating / count    \n",
    "averagerating\n",
    "        "
   ]
  },
  {
   "cell_type": "code",
   "execution_count": 26,
   "metadata": {},
   "outputs": [
    {
     "data": {
      "text/plain": [
       "'prime_genre'"
      ]
     },
     "execution_count": 26,
     "metadata": {},
     "output_type": "execute_result"
    }
   ],
   "source": [
    "df.loc[0][12]\n",
    "df.columns[12]"
   ]
  },
  {
   "cell_type": "markdown",
   "metadata": {},
   "source": [
    "### Problem 5:\n",
    "\n",
    "##### Problem statement\n",
    "Compute the average rating of the apps whose genre is either \"Social Networking\" or \"Games.\"\n"
   ]
  },
  {
   "cell_type": "code",
   "execution_count": 5,
   "metadata": {},
   "outputs": [
    {
     "name": "stdout",
     "output_type": "stream",
     "text": [
      "Average rating of the apps whose genre is either \"Social Networking\" or \"Games\" :  3.655994043186895\n"
     ]
    }
   ],
   "source": [
    "import pandas as pd\n",
    "\n",
    "df = pd.read_csv('DataFiles/AppleStore.csv')\n",
    "rating = 0\n",
    "count = 0\n",
    "for i in range (0,len(df)):\n",
    "    if df.loc[i][12] == 'Social Networking' or df.loc[i][12] == 'Games':\n",
    "        rating = rating + df.loc[i][8]\n",
    "        count = count +1\n",
    "average = rating/count\n",
    "print('Average rating of the apps whose genre is either \"Social Networking\" or \"Games\" : ' ,  average)"
   ]
  },
  {
   "cell_type": "code",
   "execution_count": null,
   "metadata": {},
   "outputs": [],
   "source": []
  },
  {
   "cell_type": "markdown",
   "metadata": {},
   "source": [
    "### Problem 6:\n",
    "\n",
    "##### Problem statement\n",
    "Compute the average rating of the non-free apps whose genre is either \"Social Networking\" or \"Games.\"\n"
   ]
  },
  {
   "cell_type": "code",
   "execution_count": 32,
   "metadata": {},
   "outputs": [
    {
     "name": "stdout",
     "output_type": "stream",
     "text": [
      "Average rating of the non-free apps whose genre is either \"Social Networking\" or \"Games\" :  3.8904235727440146\n"
     ]
    }
   ],
   "source": [
    "import pandas as pd\n",
    "df = pd.read_csv('DataFiles/AppleStore.csv')\n",
    "rating = 0\n",
    "count = 0\n",
    "for i in range (0,len(df)):\n",
    "    if df.loc[i][5] != 0:\n",
    "        if df.loc[i][12] == 'Social Networking' or df.loc[i][12] == 'Games':\n",
    "            rating = rating + df.loc[i][8]\n",
    "            count = count +1\n",
    "average = rating/count\n",
    "print('Average rating of the non-free apps whose genre is either \"Social Networking\" or \"Games\" : ' ,  average)       \n",
    "    "
   ]
  },
  {
   "cell_type": "code",
   "execution_count": null,
   "metadata": {},
   "outputs": [],
   "source": []
  },
  {
   "cell_type": "markdown",
   "metadata": {},
   "source": [
    "### Problem 7:\n",
    "\n",
    "##### Problem statement\n",
    "Compute the average rating of the apps that have a price greater than $9.\n"
   ]
  },
  {
   "cell_type": "code",
   "execution_count": 8,
   "metadata": {},
   "outputs": [
    {
     "name": "stdout",
     "output_type": "stream",
     "text": [
      "Average rating of the apps that have price greater than $9  :  4.142857142857143\n"
     ]
    }
   ],
   "source": [
    "import pandas as pd\n",
    "df = pd.read_csv('DataFiles/AppleStore.csv')\n",
    "rating = 0\n",
    "count = 0\n",
    "for i in range (0,len(df)):\n",
    "    if df.loc[i][5] > 50:\n",
    "        rating = rating + df.loc[i][8]\n",
    "        count = count + 1\n",
    "average = rating/count\n",
    "print('Average rating of the apps that have price greater than $9  : ' ,  average)\n"
   ]
  },
  {
   "cell_type": "code",
   "execution_count": null,
   "metadata": {},
   "outputs": [],
   "source": []
  },
  {
   "cell_type": "markdown",
   "metadata": {},
   "source": [
    "### Problem 8:\n",
    "\n",
    "##### Problem statement\n",
    "Categorise all apps by labelling each app as \"free\"(=0),  \"affordable\" (<20),  \"expensive\" (<50)  or \"very expensive\" (>50). Add a label column to the data."
   ]
  },
  {
   "cell_type": "code",
   "execution_count": 10,
   "metadata": {},
   "outputs": [],
   "source": [
    "import pandas as pd\n",
    "df = pd.read_csv('DataFiles/AppleStore.csv')\n",
    "li = []\n",
    "for i in range (len(df)):\n",
    "    if df.loc[i][5] == 0:\n",
    "        li.append('free')\n",
    "    \n",
    "    if df.loc[i][5] > 0 and df.loc[i][5] < 20:\n",
    "        li.append('affordable')\n",
    "    if df.loc[i][5] > 20 and df.loc[i][5] < 50:\n",
    "        li.append('expensive')\n",
    "    if df.loc[i][5] > 50:\n",
    "            li.append('very expensive')\n",
    "df['label'] = li\n",
    "df\n",
    "\n",
    "df.to_csv('AppleStore.csv',index = False)"
   ]
  },
  {
   "cell_type": "code",
   "execution_count": null,
   "metadata": {},
   "outputs": [],
   "source": []
  }
 ],
 "metadata": {
  "kernelspec": {
   "display_name": "Python 3",
   "language": "python",
   "name": "python3"
  },
  "language_info": {
   "codemirror_mode": {
    "name": "ipython",
    "version": 3
   },
   "file_extension": ".py",
   "mimetype": "text/x-python",
   "name": "python",
   "nbconvert_exporter": "python",
   "pygments_lexer": "ipython3",
   "version": "3.7.3"
  }
 },
 "nbformat": 4,
 "nbformat_minor": 2
}
