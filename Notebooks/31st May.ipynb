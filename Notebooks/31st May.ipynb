{
 "cells": [
  {
   "cell_type": "markdown",
   "metadata": {},
   "source": [
    "# Artificial Intelligence and Machine Learning-Internship\n",
    "\n",
    "### Day no - 7\n",
    "### Date - 31st May 2019\n",
    "\n"
   ]
  },
  {
   "cell_type": "markdown",
   "metadata": {},
   "source": [
    "### Problem 1: \n",
    "#### Problem Statement :\n",
    "How many runs of  Dhoni  On 4/23/2008  Chennai Super Kings vs Mumbai Indians Match ( Use Oops concepts)\n",
    "\n",
    "Datasets: \n",
    "Match.csv => Match details (match id , teams, location etc) \n",
    "\tPlayer.csv => Player Details (player id, name,team name, etc)\n",
    "\tBall_By_Ball => Ball to ball details (match id , striker, runs, over id, ball id etc)\n",
    "\n"
   ]
  },
  {
   "cell_type": "code",
   "execution_count": null,
   "metadata": {},
   "outputs": [],
   "source": [
    "import pandas as pd\n",
    "import numpy as np\n",
    "class():\n",
    "    def ():\n",
    "      \n",
    "    def getplayer(name):\n",
    "        \n",
    "        \n",
    "    def getmatch()\n",
    "        return matchid\n",
    "    def gerun():\n",
    "        \n",
    "df1 = pd.read_csv('DataFiles/Match.csv')\n",
    "df2 = pd.read_csv('DataFiles/Player.csv')\n",
    "df3 = pd.read_csv('DataFiles/Ball_By_Ball.csv')\n"
   ]
  }
 ],
 "metadata": {
  "kernelspec": {
   "display_name": "Python 3",
   "language": "python",
   "name": "python3"
  },
  "language_info": {
   "codemirror_mode": {
    "name": "ipython",
    "version": 3
   },
   "file_extension": ".py",
   "mimetype": "text/x-python",
   "name": "python",
   "nbconvert_exporter": "python",
   "pygments_lexer": "ipython3",
   "version": "3.7.3"
  }
 },
 "nbformat": 4,
 "nbformat_minor": 2
}
